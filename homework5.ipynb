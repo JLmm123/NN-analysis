{
  "cells": [
    {
      "cell_type": "markdown",
      "metadata": {
        "id": "gpEx-Jd1pYlP"
      },
      "source": [
        "# CIS 545 Homework 5: Deep Learning with Pytorch\n",
        "\n",
        "### Due Monday Dec 5th, 10:00 PM EST\n",
        "\n",
        "Welcome to CIS 545 Homework 5! \n",
        "\n",
        "In this homework, we will learn more about Deep Learning, which Stanford CS professor Andrew Ng deemed to be the 'new electricity'. Deep learning has been used to solve a multitude of problems in various fields such as computer vision and natural language processing.\n",
        "\n",
        "There are many cool frameworks for building deep learning models - PyTorch, Tensorflow, Theano, MxNet, and more! Almost all of these frameworks have multi-gpu support built-in. In this assignment, we will be building neural networks in PyTorch to solve an interesting classification problem.\n",
        "\n",
        "\n",
        "\n",
        "![alt text](http://4.bp.blogspot.com/-sLgBLS3bJO8/U__Kx6PnkRI/AAAAAAAAAWM/Gz3cL5jiwTo/s320/godeeper.jpg)\n",
        "\n",
        "\n",
        "\n"
      ]
    },
    {
      "cell_type": "markdown",
      "metadata": {
        "id": "lhSzWDvPp030"
      },
      "source": [
        "## Why deep learning? \n",
        "\n",
        "\n",
        "*   It's coooool\n",
        "*   Everyone is talking about deep learning these days! People like Siraj Raval can teach it in 5 mins (Check out his youtube channel for some comedy)\n",
        "*    Deep learning unlocks the treasure trove of unstructured big data for those with the imagination to use it\n",
        "*   Deep learning models have great representational power and are 'universal approximators'\n",
        "\n",
        "\n",
        "### Deep Learning Applications:\n",
        "\n",
        "\n",
        "Deep learning has been significantly improved voice command systems (such as Siri and Alexa), as well as healthcare and image identification.\n",
        "\n",
        "Deep learning has applications across numerous industries, which is why experts consider deep learning to be the future of almost everything. \n",
        "\n",
        "**Examples of deep learning:**\n",
        "\n",
        "Neural network detecting anomalies in Chest Xrays :\n",
        "\n",
        "\n",
        "\n",
        "\n",
        "![alt text](https://imgur.com/HKPzrzP.jpg)\n",
        "\n",
        "Most humans can't tell that this is a case of Pleural Effusion (sounds like medical jargon to engineers like us) but this Neural Network model can detect it very well!\n",
        "\n",
        "Mask RCNNs in action for detecting objects on the road aiding a self driving vehicle's driving: \n",
        "![alt text](https://miro.medium.com/max/3864/1*O4wsvh0CHWjP6IrK9HI_Zg.png)\n",
        "\n",
        "Pretty cool, right? We will be appling CNNs to solve a cool image classification problem.\n"
      ]
    },
    {
      "cell_type": "markdown",
      "metadata": {
        "id": "ywLp-5aPgkjm"
      },
      "source": [
        "# Libraries and Setup Jargon\n",
        "Run the following cells to set up the notebook.\n"
      ]
    },
    {
      "cell_type": "markdown",
      "metadata": {
        "id": "nNx7mL19gsHV"
      },
      "source": [
        "Please make sure you enter your **8 digit Penn ID** in the  student ID field below."
      ]
    },
    {
      "cell_type": "code",
      "execution_count": 1,
      "metadata": {
        "id": "OtjibtD4lvxZ"
      },
      "outputs": [],
      "source": [
        "%%capture\n",
        "!pip install -i https://test.pypi.org/simple/ penn-grader==0.5.0\n",
        "from penngrader.grader import *\n",
        "\n",
        "#PLEASE ENSURE YOUR PENN-ID IS ENTERED CORRECTLY. IF NOT, THE AUTOGRADER WON'T KNOW WHO \n",
        "#TO ASSIGN POINTS TO YOU IN OUR BACKEND\n",
        "\n",
        "STUDENT_ID = 14703644       # YOUR PENN-ID GOES HERE AS AN INTEGER"
      ]
    },
    {
      "cell_type": "code",
      "execution_count": 2,
      "metadata": {
        "id": "LsfyTveqgxss",
        "colab": {
          "base_uri": "https://localhost:8080/"
        },
        "outputId": "cb155e3b-f75b-401b-ab83-59a8d5e7c081"
      },
      "outputs": [
        {
          "output_type": "stream",
          "name": "stdout",
          "text": [
            "Overwriting config.yaml\n"
          ]
        }
      ],
      "source": [
        "%%writefile config.yaml\n",
        "grader_api_url: 'https://wyv616tp17.execute-api.us-east-1.amazonaws.com/default/Grader'\n",
        "grader_api_key: 'Kd32fl3g3p917iM0zwjiO23Bitj4PO9ga4LektOa'"
      ]
    },
    {
      "cell_type": "code",
      "execution_count": 3,
      "metadata": {
        "id": "YQaH_xAag0BG",
        "colab": {
          "base_uri": "https://localhost:8080/"
        },
        "outputId": "bd2974a5-e68c-4de3-ce71-47181e925589"
      },
      "outputs": [
        {
          "output_type": "stream",
          "name": "stdout",
          "text": [
            "PennGrader initialized with Student ID: 14703644\n",
            "\n",
            "Make sure this correct or we will not be able to store your grade\n"
          ]
        }
      ],
      "source": [
        "grader = PennGrader('config.yaml', 'CIS_5450_Fall22_HW5', STUDENT_ID, STUDENT_ID)"
      ]
    },
    {
      "cell_type": "markdown",
      "metadata": {
        "id": "RY5BOTyRg4Qf"
      },
      "source": [
        "## Import the required Libraries"
      ]
    },
    {
      "cell_type": "code",
      "execution_count": 4,
      "metadata": {
        "id": "6diQ4Pfug3uw"
      },
      "outputs": [],
      "source": [
        "import pandas as pd\n",
        "import numpy as np\n",
        "import matplotlib.pyplot as plt\n",
        "import seaborn as sns\n",
        "from matplotlib import cm\n",
        "from sklearn.model_selection import train_test_split\n",
        "import torch\n",
        "import torchvision\n",
        "from torchvision import transforms, utils\n",
        "import torch.nn as nn\n",
        "import torch.optim as optim\n",
        "import torchvision.transforms as transforms\n",
        "from collections import Counter\n",
        "from PIL import Image\n",
        "from skimage import io, transform\n",
        "import os\n",
        "from torchvision.io import read_image\n",
        "from torch.utils.data import Dataset, DataLoader\n",
        "from collections import Counter\n",
        "from google.colab import drive"
      ]
    },
    {
      "cell_type": "markdown",
      "metadata": {
        "id": "gNsODFlokkfK"
      },
      "source": [
        "## Set up GPU capabilities\n",
        "\n",
        "The cell below sets up a CUDA device to use with torch, if available to you.\n",
        "\n",
        "**Remeber to turn on the GPU for runtime in Colab**\n",
        "*   Go to Runtime -> Change runtime type --> GPU\n"
      ]
    },
    {
      "cell_type": "markdown",
      "metadata": {
        "id": "wV4hIrFrK7zP"
      },
      "source": [
        "Note that you can create a PyTorch tensor `T` that resides on the GPU using the command `T = torch.Tensor(..., device=cuda)`. \n",
        "You can also copy existing tensors to the GPU with the command `T = T.to(device)` (make sure to overwrite `T` with the result of this function call). If you do not have a GPU, these commands will still work."
      ]
    },
    {
      "cell_type": "code",
      "execution_count": 5,
      "metadata": {
        "id": "vSUpULlMkrce",
        "colab": {
          "base_uri": "https://localhost:8080/"
        },
        "outputId": "e0f76f89-9bdc-415c-d227-7d9862188ccc"
      },
      "outputs": [
        {
          "output_type": "stream",
          "name": "stdout",
          "text": [
            "1.12.1+cu113\n",
            "cuda:0\n"
          ]
        }
      ],
      "source": [
        "# DO NOT MODIFY\n",
        "torch.manual_seed(42) # For grading consistency\n",
        "device = torch.device(\"cuda:0\" if torch.cuda.is_available() else \"cpu\")\n",
        "print(torch.__version__)\n",
        "print(device)"
      ]
    },
    {
      "cell_type": "markdown",
      "metadata": {
        "id": "na_ToSgghGPl"
      },
      "source": [
        "# **Part 1:** Data Preprocessing and Preparation for Modeling in `PyTorch`\n",
        "\n",
        "In this homework we will tackle the problem of classifying images.\n",
        "\n",
        "Specifically, we would be looking at the CIFAR-10 dataset."
      ]
    },
    {
      "cell_type": "markdown",
      "source": [
        "![Screen Shot 2565-11-20 at 15.41.04.png](https://s2.loli.net/2022/11/21/cseQkbxzPS7GmTE.png)"
      ],
      "metadata": {
        "id": "OgT0xnGcmZHH"
      }
    },
    {
      "cell_type": "markdown",
      "metadata": {
        "id": "K_V_41wSkKho"
      },
      "source": [
        "[CIFAR-10](https://www.cs.toronto.edu/~kriz/cifar.html) dataset consists of 60000 32x32 colour images in 10 classes, with 6000 images per class. \n",
        "\n",
        "There are 50000 training images and 10000 test images.\n",
        "\n",
        "We would be using this dataset to train 3 different models:\n",
        "\n",
        "1.   Logistic Regression\n",
        "2.   Fully Connected Neural Network\n",
        "3.   Convolutional Neural Network\n",
        "\n",
        "And analyze the difference between these models by looking at the test accuracy.\n",
        "\n"
      ]
    },
    {
      "cell_type": "markdown",
      "metadata": {
        "id": "Cy1Jc_s-rW8H"
      },
      "source": [
        "## 1.1 Pytorch Dataset and DataLoader (10 points)\n",
        "\n",
        "To keep data loading consistent across different models, PyTorch provides two data primitives: `torch.utils.data.DataLoader` and `torch.utils.data.Dataset` that allow you to use pre-loaded datasets as well as your own data.\n",
        "\n",
        "`Dataset` stores the samples and their corresponding labels. And `DataLoader` wraps an iterable around the Dataset to enable easy access to the samples.\n",
        "\n",
        "While Pytorch provides Dataset and Dataloader for some popular datasets (such as Titanic), often of the time we need to define our own Custom Dataset to process our dataset.\n",
        "\n",
        "![Screen Shot 2565-11-20 at 15.59.54.png](https://s2.loli.net/2022/11/21/7tGzmxKIvsOk8S5.png)"
      ]
    },
    {
      "cell_type": "markdown",
      "metadata": {
        "id": "dwj0Cr7TrpcY"
      },
      "source": [
        "Dataset Class is defined with 3 compoenents:\n",
        "\n",
        "1.   __init__\n",
        "2.   __len__ so that len(dataset) returns the size of the dataset.\n",
        "3.   __getitem__ to support the indexing such that `dataset[i]` can be used to get `i`ith sample (in our case Image, label pair).\n",
        "\n",
        "To create a Custom Dataset, you would need overide above functions.\n",
        "\n",
        "Documentation for creating custom dataset can be found [here](https://pytorch.org/tutorials/beginner/data_loading_tutorial.html).\n",
        "\n",
        "In this assignment, we would be using a **predefined Dataset from Pytorch**. (Since CIFAR-10 is a classic image dataset).\n",
        "\n",
        "Complete the missing code in the two sections below.\n",
        "\n",
        "*   1.1.1 Instantiate Train and Test Dataset.\n",
        "*   1.1.2 Instantiate Train and Test Dataloader.\n"
      ]
    },
    {
      "cell_type": "markdown",
      "source": [
        "### 1.1.1 Instantiate Dataset (for train/test dataset) (6 points)\n",
        "\n",
        "One optional function in Dataset class is `transform`, where we can apply a transformation to the dataset before we load them as a dataloader. For example if we define a `Resize` function in transform, all of our dataset(images) would be resized.\n",
        "\n",
        "Below, complete the code to apply following transformations (in order!!):\n",
        "\n",
        "1.   Resize the image to 32 by 32 (given as scale variable)\n",
        "2.   Convert the Images to Tensor\n",
        "3.   Normalize the Tensor using, the means `[0.485, 0.456, 0.406]` and standard deviations `[0.229, 0.224, 0.225]`\n",
        "\n",
        "Please review the [Recitation 10 notebook](https://drive.google.com/file/d/1-twF9vLkQ8oDT1Ps6bqCGn_VdwXWTsZd/view?usp=sharing) for detailed instructions on how to perform these operations. \n",
        "\n",
        "Please compose this sequence of transformations using `transforms.Compose`, and save the result of this transformation sequence with the variable name `transform`. We highly recommend reading the [PyTorch documentation](https://pytorch.org/vision/stable/transforms.html) for this function before proceeding.\n",
        "\n",
        "You might be asking, why we are using these two lists `[0.485, 0.456, 0.406]` and `[0.229, 0.224, 0.225]` to normalize the tensor? These two lists are the mean and the standard deviation of each dimension in the [ImageNet](https://www.image-net.org/index.php) dataset respectively. ImageNet has a total of 14,197,122 Images, and Pytorch often uses these values to normalize image data.\n",
        "\n"
      ],
      "metadata": {
        "id": "bpQqqYqwrgMT"
      }
    },
    {
      "cell_type": "code",
      "source": [
        "scale = 32\n",
        "# TODO\n",
        "transform = transforms.Compose(\n",
        "        [transforms.Resize((scale, scale)),\n",
        "         transforms.ToTensor(),\n",
        "         transforms.Normalize(mean = [0.485, 0.456, 0.406], std = [0.229, 0.224, 0.225] )\n",
        "         ])\n",
        "\n",
        "# TODO END"
      ],
      "metadata": {
        "id": "888yJf-Oq_DF"
      },
      "execution_count": 6,
      "outputs": []
    },
    {
      "cell_type": "markdown",
      "source": [
        "Now that we have defined the tranforms we are going to apply to the dataset, let's instantiate both `trainDataset` and `testDataset` using our predefined PyTorch Dataset. Please refer to the documentation [here](https://pytorch.org/vision/stable/generated/torchvision.datasets.CIFAR10.html#torchvision.datasets.CIFAR10).\n"
      ],
      "metadata": {
        "id": "x_FAH9fQsN3O"
      }
    },
    {
      "cell_type": "code",
      "source": [
        "# TODO\n",
        "train_dataset = torchvision.datasets.CIFAR10(root = './data', train = True, download = True, transform = transform)\n",
        "test_dataset = torchvision.datasets.CIFAR10(root = './data', train = False, download = True, transform = transform)\n",
        "# TODO END"
      ],
      "metadata": {
        "id": "Ue0KGeBnq_JK",
        "colab": {
          "base_uri": "https://localhost:8080/"
        },
        "outputId": "7748425e-b12e-4ef2-e10e-8e08d4b20abb"
      },
      "execution_count": 7,
      "outputs": [
        {
          "output_type": "stream",
          "name": "stdout",
          "text": [
            "Files already downloaded and verified\n",
            "Files already downloaded and verified\n"
          ]
        }
      ]
    },
    {
      "cell_type": "code",
      "source": [
        "#Grader Cell (6 points)\n",
        "transforms_list = []\n",
        "for i in range(len(train_dataset.transform.transforms)):\n",
        "  transforms_list.append(str(train_dataset.transform.transforms[i]))\n",
        "grader.grade(test_case_id = 'instantiate_dataset', answer = (transforms_list, len(train_dataset), len(test_dataset)))"
      ],
      "metadata": {
        "id": "G_aP3WNVtgpV",
        "colab": {
          "base_uri": "https://localhost:8080/"
        },
        "outputId": "e184ae7b-f783-4829-84b5-3bb70b63e7fd"
      },
      "execution_count": 8,
      "outputs": [
        {
          "output_type": "stream",
          "name": "stdout",
          "text": [
            "Correct! You earned 6/6 points. You are a star!\n",
            "\n",
            "Your submission has been successfully recorded in the gradebook.\n"
          ]
        }
      ]
    },
    {
      "cell_type": "markdown",
      "source": [
        "### 1.1.2 Dataloader - Train / Test (4 points)\n",
        "\n",
        "Now that we have `trainDataset` and `testDataset`, let's create dataloaders using these two datasets.\n",
        "\n",
        "You can load the dataset into dataloaders using the `DataLoaders` object. Please refer to the documentation [here](https://pytorch.org/docs/stable/data.html#torch.utils.data.DataLoader). \n",
        "\n",
        "Please save the respective dataloaders for `trainDataset` and `testDataset` as `train_loader` and `test_loader` respectively. \n",
        "\n",
        "For both `train_loader` and `test_loader`, set the `batch_size` equal to the previously-defined variable `batch`, set `shuffle` to `True`, and `num_workers` as 0.\n",
        "\n",
        "For grading purposes, please save the code you used to load the dataset to dataloader as a string. Please keep the provided format of the string (don't change the spacing), and also keep the other arguments as default values."
      ],
      "metadata": {
        "id": "6gTJMLhssn79"
      }
    },
    {
      "cell_type": "code",
      "source": [
        "batch = 64\n",
        "# TODO\n",
        "train_loader = torch.utils.data.DataLoader(train_dataset, batch_size=batch, shuffle=True, num_workers = 0)\n",
        "test_loader = torch.utils.data.DataLoader(test_dataset,batch_size=batch, shuffle=True, num_workers = 0)\n",
        "# TODO END"
      ],
      "metadata": {
        "id": "wxN15VCJs3OR"
      },
      "execution_count": 9,
      "outputs": []
    },
    {
      "cell_type": "code",
      "source": [
        "# TODO\n",
        "str_train_loader = \"DataLoader(train_dataset, batch_size = batch, shuffle = True, num_workers = 0)\"\n",
        "str_test_loader = \"DataLoader(test_dataset, batch_size = batch, shuffle = True, num_workers = 0)\"\n",
        "# END TODO"
      ],
      "metadata": {
        "id": "OIiEGqGquE9Y"
      },
      "execution_count": 10,
      "outputs": []
    },
    {
      "cell_type": "code",
      "source": [
        "#Grader Cell (4 points)\n",
        "grader.grade(test_case_id = 'check_dataloader', answer = (str_train_loader, str_test_loader))"
      ],
      "metadata": {
        "id": "ZfQTf66ctjJx",
        "colab": {
          "base_uri": "https://localhost:8080/"
        },
        "outputId": "8c20db01-b5ac-4deb-da83-10c114d20776"
      },
      "execution_count": 11,
      "outputs": [
        {
          "output_type": "stream",
          "name": "stdout",
          "text": [
            "Correct! You earned 4/4 points. You are a star!\n",
            "\n",
            "Your submission has been successfully recorded in the gradebook.\n"
          ]
        }
      ]
    },
    {
      "cell_type": "markdown",
      "metadata": {
        "id": "VhEAw-bPms54"
      },
      "source": [
        "## 1.2 Summarizing our Dataset (13 points)\n",
        "\n",
        "When implementing ML applications, getting a good sense of the dataset we are working on is always the first step you should take."
      ]
    },
    {
      "cell_type": "markdown",
      "source": [
        "### 1.2.1 Looking at the distribution of labels (6 points)\n",
        "\n",
        "1. Get the number of labels in training dataset and save this quantity as the variable `train_num_labels`. \n",
        "\n",
        "2. Create a dictionary `train_dataset_dict` that contains the labels as keys and the number of images inside the label as values.\n",
        "\n",
        "3. Create a `DataLoader` called `train_loader_bar_plot` which takes as arguments the `train_dataset`, with the `batch_size` equal to the length of the `train_dataset`. \n",
        "\n",
        "Moreover, please repeat the above 3 steps for the test dataset. Please call the variables for each step `test_num_labels`, `test_num_labels` and `test_loader_bar_plot` respectively. "
      ],
      "metadata": {
        "id": "G8Fbab8btzYN"
      }
    },
    {
      "cell_type": "code",
      "source": [
        "print(train_dataset[1])"
      ],
      "metadata": {
        "colab": {
          "base_uri": "https://localhost:8080/"
        },
        "id": "do_Gfis0ysUp",
        "outputId": "02f38e1e-7076-44ab-8029-f52bd6480be1"
      },
      "execution_count": 12,
      "outputs": [
        {
          "output_type": "stream",
          "name": "stdout",
          "text": [
            "(tensor([[[ 0.5193,  0.0398, -0.3198,  ..., -0.5596, -0.6281, -0.7650],\n",
            "         [ 0.2796,  0.3652,  0.0227,  ..., -0.4739, -0.7993, -0.9020],\n",
            "         [ 0.2796,  0.2624, -0.1486,  ..., -0.7650, -0.9534, -0.9705],\n",
            "         ...,\n",
            "         [ 0.8789,  0.5536,  0.5193,  ..., -1.3987, -1.0733, -0.5253],\n",
            "         [ 0.7077,  0.5536,  0.6049,  ..., -0.3541, -0.0116,  0.1254],\n",
            "         [ 0.6734,  0.5878,  0.6734,  ...,  0.3309,  0.3309,  0.3309]],\n",
            "\n",
            "        [[ 1.0630,  0.3627, -0.2150,  ..., -0.3725, -0.4601, -0.6176],\n",
            "         [ 0.7654,  0.6429,  0.1527,  ..., -0.3025, -0.6352, -0.7577],\n",
            "         [ 0.6779,  0.5203, -0.0224,  ..., -0.6001, -0.8102, -0.8277],\n",
            "         ...,\n",
            "         [ 0.8880,  0.6604,  0.7654,  ..., -1.4405, -1.1078, -0.5826],\n",
            "         [ 0.6604,  0.6254,  0.7829,  ..., -0.4076, -0.0399,  0.0826],\n",
            "         [ 0.5553,  0.5553,  0.6954,  ...,  0.2927,  0.3102,  0.2927]],\n",
            "\n",
            "        [[ 1.4548,  0.5659, -0.1487,  ..., -0.5670, -0.5670, -0.5844],\n",
            "         [ 1.1411,  0.8797,  0.2522,  ..., -0.4450, -0.7238, -0.7413],\n",
            "         [ 1.0539,  0.7925,  0.1476,  ..., -0.6890, -0.8458, -0.8458],\n",
            "         ...,\n",
            "         [ 1.0888,  0.9842,  1.1585,  ..., -1.1770, -0.8110, -0.2184],\n",
            "         [ 0.4265,  0.4614,  0.6705,  ..., -0.1312,  0.2871,  0.4788],\n",
            "         [ 0.2871,  0.3219,  0.5136,  ...,  0.6182,  0.6705,  0.7054]]]), 9)\n"
          ]
        }
      ]
    },
    {
      "cell_type": "code",
      "source": [
        "# TODO - TRAIN\n",
        "\n",
        "train_num_labels = 0\n",
        "train_dataset_dict = {}\n",
        "\n",
        "for inputs, labels in train_dataset:\n",
        "  if labels not in train_dataset_dict:\n",
        "    train_dataset_dict[labels] = 0\n",
        "    train_num_labels += 1\n",
        "\n",
        "  train_dataset_dict[labels] +=  1\n",
        "    \n",
        "    \n",
        "print(train_dataset_dict)\n",
        "print(train_num_labels)\n",
        "\n",
        "\n",
        "train_loader_bar_plot = torch.utils.data.DataLoader(train_dataset, batch_size=len(train_dataset))\n",
        "# END TODO"
      ],
      "metadata": {
        "id": "VMsEpeYhtypV",
        "colab": {
          "base_uri": "https://localhost:8080/"
        },
        "outputId": "199a3384-1640-49f7-a06d-094a7e5f0fe1"
      },
      "execution_count": 13,
      "outputs": [
        {
          "output_type": "stream",
          "name": "stdout",
          "text": [
            "{6: 5000, 9: 5000, 4: 5000, 1: 5000, 2: 5000, 7: 5000, 8: 5000, 3: 5000, 5: 5000, 0: 5000}\n",
            "10\n"
          ]
        }
      ]
    },
    {
      "cell_type": "code",
      "source": [
        "# TODO - TEST\n",
        "test_num_labels = 0\n",
        "test_dataset_dict = {}\n",
        "\n",
        "for inputs, labels in test_dataset:\n",
        "  if labels not in test_dataset_dict:\n",
        "    test_dataset_dict[labels] = 0\n",
        "    test_num_labels += 1\n",
        "\n",
        "  test_dataset_dict[labels] +=  1\n",
        "    \n",
        "print(test_dataset_dict)\n",
        "print(test_num_labels)   \n",
        "    \n",
        "test_loader_bar_plot = torch.utils.data.DataLoader(test_dataset, batch_size=len(test_dataset))\n",
        "# END TODO"
      ],
      "metadata": {
        "id": "C0J3r0M1wjlo",
        "colab": {
          "base_uri": "https://localhost:8080/"
        },
        "outputId": "b1625a11-e3af-430d-e857-eeb4ed4a4ceb"
      },
      "execution_count": 14,
      "outputs": [
        {
          "output_type": "stream",
          "name": "stdout",
          "text": [
            "{3: 1000, 8: 1000, 0: 1000, 6: 1000, 1: 1000, 9: 1000, 5: 1000, 7: 1000, 4: 1000, 2: 1000}\n",
            "10\n"
          ]
        }
      ]
    },
    {
      "cell_type": "code",
      "source": [
        "#Grader Cell (6 points)\n",
        "grader.grade(test_case_id = 'dataset_dict', answer = (train_num_labels, train_dataset_dict, test_num_labels, test_dataset_dict))"
      ],
      "metadata": {
        "id": "ehAi4TVCwvAh",
        "colab": {
          "base_uri": "https://localhost:8080/"
        },
        "outputId": "799161ac-499e-4c36-ec8e-0bffec9b9831"
      },
      "execution_count": 15,
      "outputs": [
        {
          "output_type": "stream",
          "name": "stdout",
          "text": [
            "Correct! You earned 6/6 points. You are a star!\n",
            "\n",
            "Your submission has been successfully recorded in the gradebook.\n"
          ]
        }
      ]
    },
    {
      "cell_type": "markdown",
      "source": [
        "### 1.2.2 Visualize through bar charts (2 points - Manual Grading)\n",
        "Please create a barplot for the distributions of the train/test dataset using MatPlotLib or Seaborn.\n",
        "\n",
        "y-axis: Number of data points\n",
        "\n",
        "x-axis: The integer value of the labels in the CIFAR dataset \n",
        "\n",
        "Please provide appropriate titles and axis labels for the plot."
      ],
      "metadata": {
        "id": "8T6B5dz7w_9r"
      }
    },
    {
      "cell_type": "code",
      "source": [
        "# TODO: Create a barplot showing the distribution of the dataset\n",
        "# TRAIN\n",
        "keys = list(train_dataset_dict.keys())\n",
        "vals = list(train_dataset_dict.values())\n",
        "p = sns.barplot(x=keys, y=vals)\n",
        "\n",
        "p.set_xlabel(\"labels\", fontsize = 10)\n",
        "p.set_ylabel(\"frequency\", fontsize = 10)\n",
        "p.set(title='Train dataset label frequency')"
      ],
      "metadata": {
        "id": "CyRR31L_v6CA",
        "colab": {
          "base_uri": "https://localhost:8080/",
          "height": 312
        },
        "outputId": "2581d8c0-cfa7-4fab-dd40-ef4b858c1014"
      },
      "execution_count": 16,
      "outputs": [
        {
          "output_type": "execute_result",
          "data": {
            "text/plain": [
              "[Text(0.5, 1.0, 'Train dataset label frequency')]"
            ]
          },
          "metadata": {},
          "execution_count": 16
        },
        {
          "output_type": "display_data",
          "data": {
            "text/plain": [
              "<Figure size 432x288 with 1 Axes>"
            ],
            "image/png": "[encoded data removed]"
          },
          "metadata": {
            "needs_background": "light"
          }
        }
      ]
    },
    {
      "cell_type": "code",
      "source": [
        "# TODO: Create a barplot showing the distribution of the dataset\n",
        "# TEST\n",
        "keys = list(test_dataset_dict.keys())\n",
        "vals = list(test_dataset_dict.values())\n",
        "p = sns.barplot(x=keys, y=vals)\n",
        "\n",
        "p.set_xlabel(\"labels\", fontsize = 10)\n",
        "p.set_ylabel(\"frequency\", fontsize = 10)\n",
        "p.set(title='Test dataset label frequency')"
      ],
      "metadata": {
        "id": "Wrd8pwiOxm-r",
        "colab": {
          "base_uri": "https://localhost:8080/",
          "height": 312
        },
        "outputId": "76ce3dd7-bd3c-4bf5-b77d-5fb5793f7169"
      },
      "execution_count": 17,
      "outputs": [
        {
          "output_type": "execute_result",
          "data": {
            "text/plain": [
              "[Text(0.5, 1.0, 'Test dataset label frequency')]"
            ]
          },
          "metadata": {},
          "execution_count": 17
        },
        {
          "output_type": "display_data",
          "data": {
            "text/plain": [
              "<Figure size 432x288 with 1 Axes>"
            ],
            "image/png": "[encoded data removed]"
          },
          "metadata": {
            "needs_background": "light"
          }
        }
      ]
    },
    {
      "cell_type": "markdown",
      "metadata": {
        "id": "42tpekmSDmOY"
      },
      "source": [
        "### 1.2.3 Visualize the Training Dataset! (5 points - Manual Grading)\n",
        "\n",
        "Since everything tends to make more sense when one could literally see it, we ask you to visualize the images in the `train_dataset` given a fixed set of indices.  \n",
        "\n",
        "These are the TODOs for this question:\n",
        "* Since the `train_dataset` we defined above is already normalized, please create another Torch dataset called `train_dataset_for_plot` where the normalization transforms are not performed. That is, only call the `resize` and `toTensor` functions when defining the series of transformations `transform_for_plot` that will be applied to this dataset. \n",
        "\n",
        "* Then, loop through `sample_idxs` (the list of indices provided) using a for-loop\n",
        "* For each iteration of this for-loop:\n",
        "  * Plot the current image using matplotlib\n",
        "  * When plotting the image, print the integer-valued label of the image using `plt.title`\n",
        "  * When plotting the image, make sure to hide grid lines\n"
      ]
    },
    {
      "cell_type": "code",
      "execution_count": 18,
      "metadata": {
        "id": "lMKWlmvADsbX",
        "colab": {
          "base_uri": "https://localhost:8080/",
          "height": 1000
        },
        "outputId": "528ac9b3-24d8-4ae5-b9ad-d7be39b06b18"
      },
      "outputs": [
        {
          "output_type": "stream",
          "name": "stdout",
          "text": [
            "Files already downloaded and verified\n"
          ]
        },
        {
          "output_type": "display_data",
          "data": {
            "text/plain": [
              "<Figure size 432x288 with 1 Axes>"
            ],
            "image/png": "[encoded data removed]"
          },
          "metadata": {
            "needs_background": "light"
          }
        },
        {
          "output_type": "display_data",
          "data": {
            "text/plain": [
              "<Figure size 432x288 with 1 Axes>"
            ],
            "image/png": "[encoded data removed]"
          },
          "metadata": {
            "needs_background": "light"
          }
        },
        {
          "output_type": "display_data",
          "data": {
            "text/plain": [
              "<Figure size 432x288 with 1 Axes>"
            ],
            "image/png": "[encoded data removed]"
          },
          "metadata": {
            "needs_background": "light"
          }
        },
        {
          "output_type": "display_data",
          "data": {
            "text/plain": [
              "<Figure size 432x288 with 1 Axes>"
            ],
            "image/png": "[encoded data removed]"
          },
          "metadata": {
            "needs_background": "light"
          }
        },
        {
          "output_type": "display_data",
          "data": {
            "text/plain": [
              "<Figure size 432x288 with 1 Axes>"
            ],
            "image/png": "[encoded data removed]"
          },
          "metadata": {
            "needs_background": "light"
          }
        },
        {
          "output_type": "display_data",
          "data": {
            "text/plain": [
              "<Figure size 432x288 with 1 Axes>"
            ],
            "image/png": "[encoded data removed]"
          },
          "metadata": {
            "needs_background": "light"
          }
        }
      ],
      "source": [
        "torch.manual_seed(42)\n",
        "\n",
        "# TODO\n",
        "transform_for_plot = transforms.Compose(\n",
        "        [transforms.Resize((scale, scale)),\n",
        "         transforms.ToTensor()\n",
        "         ])\n",
        "\n",
        "\n",
        "train_dataset_for_plot = torchvision.datasets.CIFAR10(root = './data', train = True, download = True, transform = transform_for_plot)\n",
        "# END TODO\n",
        "\n",
        "sample_idxs = [10, 300, 700, 2705, 5005, 8000] # DO NOT MODIFY\n",
        "\n",
        "# TODO\n",
        "def imshow(img, labels):\n",
        "    npimg = img.numpy()\n",
        "    plt.imshow(img.permute(1, 2, 0))\n",
        "    plt.grid(False)\n",
        "    plt.title(labels)\n",
        "    plt.show()\n",
        "\n",
        "for index in sample_idxs: \n",
        "  image, labels = train_dataset_for_plot[index]\n",
        "  imshow(image, labels)\n",
        "\n",
        "\n",
        "# END TODO\n",
        "#def imshow(img):\n",
        "#    npimg = img.numpy()\n",
        "#    plt.imshow(img.permute(1, 2, 0))\n",
        "#    plt.show()\n",
        "\n",
        "# get some random training images\n",
        "#data_iter = iter(train_loader)\n",
        "#images, labels = data_iter.next()\n",
        "\n",
        "# show images\n",
        "#imshow(torchvision.utils.make_grid(images))"
      ]
    },
    {
      "cell_type": "markdown",
      "metadata": {
        "id": "efWfR1ZFvFGw"
      },
      "source": [
        "# **Part 2:** Classification Models\n",
        "\n",
        "We now have the data needed to train a multi-class object classifier. We will start simple with a logistic regression classifier as a baseline for our performance, before we move onto more complex neural networks. "
      ]
    },
    {
      "cell_type": "markdown",
      "metadata": {
        "id": "inNnqrxRvZyP"
      },
      "source": [
        "## 2.1 Logical Logistic Regression - Baseline (18 points)\n",
        "\n",
        "Let's first try solving this problem with a Logistic Regression classifier.\n",
        "\n",
        "We will define a logistic regression model in Pytorch and train it on our training set and evaluate the performance on the test set."
      ]
    },
    {
      "cell_type": "markdown",
      "metadata": {
        "id": "DV4P3Jufv3-d"
      },
      "source": [
        "### 2.1.1 Logistic Regression Model Architecture (7 points)\n",
        "\n",
        "We will define our first model in Pytorch. Read up about how to define and use layers in a Pytorch neural network [here](https://pytorch.org/tutorials/beginner/basics/buildmodel_tutorial.html). \n",
        "\n",
        "Our first model is a logistic regression model with the number of outputs equal to the number of classes in the model. Please implement the constructor for the `LogReg` class (the `__init__` function below) with the definition of the logistic regression model.\n",
        "\n",
        "Please review the [notebook *and* recording of Recitation 10](https://edstem.org/us/courses/24593/discussion/2179813) for a detailed discussion of how to perform this process, especially how to call the function `nn.Flatten()` when defining the model.\n",
        "\n",
        "When implementing this section, please think about what activation function would be most appropriate for logistic regression."
      ]
    },
    {
      "cell_type": "code",
      "source": [
        "for inputs, labels in train_loader:\n",
        "    print(\"The shape of inputs is:\", inputs.shape)\n",
        "    print(\"The shape of labels is:\", labels.shape)\n",
        "    break"
      ],
      "metadata": {
        "colab": {
          "base_uri": "https://localhost:8080/"
        },
        "id": "KOR7ktbbQl-k",
        "outputId": "bfbd4e64-8f1c-4c85-c944-1a88ea46fae4"
      },
      "execution_count": 19,
      "outputs": [
        {
          "output_type": "stream",
          "name": "stdout",
          "text": [
            "The shape of inputs is: torch.Size([64, 3, 32, 32])\n",
            "The shape of labels is: torch.Size([64])\n"
          ]
        }
      ]
    },
    {
      "cell_type": "code",
      "execution_count": 20,
      "metadata": {
        "id": "XhWhICYYv28t"
      },
      "outputs": [],
      "source": [
        "class LogReg(nn.Module):\n",
        "    def __init__(self):\n",
        "        super().__init__()\n",
        "        # TODO\n",
        "        self.flatten = nn.Flatten(start_dim=1)\n",
        "        self.linear=torch.nn.Linear(in_features = 3 *32 * 32, out_features = 10)\n",
        "        self.sigmoid = nn.Sigmoid()\n",
        "        \n",
        "        # END TODO\n",
        "\n",
        "    def forward(self, x):\n",
        "        # TODO\n",
        "       outputs = self.linear(self.flatten(x))\n",
        "       outputs = self.sigmoid(outputs)\n",
        "       return outputs\n",
        "        \n",
        "      \n",
        "        # END TODO\n"
      ]
    },
    {
      "cell_type": "markdown",
      "metadata": {
        "id": "PsVqXGsXwHfr"
      },
      "source": [
        "Also, let's print the model summary out by running the cell below:"
      ]
    },
    {
      "cell_type": "code",
      "execution_count": 21,
      "metadata": {
        "id": "ST_FCqbs7Jum",
        "colab": {
          "base_uri": "https://localhost:8080/"
        },
        "outputId": "226c00bf-d9dd-4507-f7d7-0856c0713a37"
      },
      "outputs": [
        {
          "output_type": "execute_result",
          "data": {
            "text/plain": [
              "LogReg(\n",
              "  (flatten): Flatten(start_dim=1, end_dim=-1)\n",
              "  (linear): Linear(in_features=3072, out_features=10, bias=True)\n",
              "  (sigmoid): Sigmoid()\n",
              ")"
            ]
          },
          "metadata": {},
          "execution_count": 21
        }
      ],
      "source": [
        "LogReg()"
      ]
    },
    {
      "cell_type": "code",
      "execution_count": 22,
      "metadata": {
        "id": "zd0bceGw69Td",
        "colab": {
          "base_uri": "https://localhost:8080/"
        },
        "outputId": "1d5bf3b2-b515-45d4-cee4-b3e6bd3d99bb"
      },
      "outputs": [
        {
          "output_type": "stream",
          "name": "stdout",
          "text": [
            "Correct! You earned 7/7 points. You are a star!\n",
            "\n",
            "Your submission has been successfully recorded in the gradebook.\n"
          ]
        }
      ],
      "source": [
        "#Grader Cell (7 points)\n",
        "grader.grade(test_case_id = 'logistic_regression_model', answer = str(LogReg()))"
      ]
    },
    {
      "cell_type": "markdown",
      "source": [
        "### 2.1.2 Training Logistic Regression Model\n",
        "\n",
        "TODOs\n",
        "1.   Instantiate the Logistic regression to the variable `logreg`. Make sure to send this to the GPU device -- please consult the [Module 20 slides](https://docs.google.com/presentation/d/1pw9cFO30U_kI47JUZIW9COLAkM8BE8wr/edit?usp=sharing&ouid=115607071793138372214&rtpof=true&sd=true) for a primer on how to do this.\n",
        "\n",
        "2.   Set the loss criterion as `CrossEntropyLoss` (you can look up the documentation [here](https://pytorch.org/docs/stable/nn.html#loss-functions)). Note that softmax is already built into CrossEntropyLoss so if you use CrossEntropyLoss as the loss criterion, you don't need to add an additional softmax layer. \n",
        "\n",
        "3.   Fill in the missing parts in the training loop (see `#TODO` comments below)\n",
        "4.   Save the Training Accuracy for every epoch into the variable `acc_LIST_log`.\n",
        "5.   Save the Average Loss for every epoch into the variable `loss_LIST_log`.\n",
        "\n",
        "The optimizer is set as Adam -- **please do not modify the optimizer**.\n",
        "\n",
        "Hint: Remember to update the weights correctly by backpropagation, please zero out the gradients by calling `optimizer.zero_grad()` every time you call `backward()`.  **Please review the [Recitation 10 notebook](https://drive.google.com/file/d/1-twF9vLkQ8oDT1Ps6bqCGn_VdwXWTsZd/view?usp=sharing) for detailed instructions on how to perform these operations.**\n",
        "\n",
        "**Note: If the loss went up during the training, there is something wrong with the model, so you should check if the model is implemented correctly**"
      ],
      "metadata": {
        "id": "_a0NHn6e1fkd"
      }
    },
    {
      "cell_type": "code",
      "execution_count": 23,
      "metadata": {
        "id": "rs-kI1LVvZnt",
        "colab": {
          "base_uri": "https://localhost:8080/"
        },
        "outputId": "c8ac5b25-4bb4-44df-d2ce-63907f512438"
      },
      "outputs": [
        {
          "output_type": "stream",
          "name": "stdout",
          "text": [
            "The loss for Epoch 0 is: 2.0914223463943853, Accuracy = 32.428\n",
            "The loss for Epoch 1 is: 2.0449691579469937, Accuracy = 35.726\n",
            "The loss for Epoch 2 is: 2.0307566142448072, Accuracy = 36.608\n",
            "The loss for Epoch 3 is: 2.0219370385874873, Accuracy = 36.924\n",
            "The loss for Epoch 4 is: 2.015554020776773, Accuracy = 37.444\n",
            "The loss for Epoch 5 is: 2.0103070563672447, Accuracy = 37.9\n",
            "The loss for Epoch 6 is: 2.0059206921731114, Accuracy = 38.176\n",
            "The loss for Epoch 7 is: 2.0019836805360702, Accuracy = 38.266\n",
            "The loss for Epoch 8 is: 1.9989248181852843, Accuracy = 38.85\n",
            "The loss for Epoch 9 is: 1.995709345011455, Accuracy = 38.888\n",
            "The loss for Epoch 10 is: 1.9930897062391881, Accuracy = 39.112\n",
            "The loss for Epoch 11 is: 1.990197228806098, Accuracy = 39.188\n",
            "The loss for Epoch 12 is: 1.9882768496223118, Accuracy = 39.424\n",
            "The loss for Epoch 13 is: 1.986011653147695, Accuracy = 39.522\n",
            "The loss for Epoch 14 is: 1.9839610193696473, Accuracy = 39.67\n",
            "The loss for Epoch 15 is: 1.981981398961733, Accuracy = 39.556\n",
            "The loss for Epoch 16 is: 1.9803799247497793, Accuracy = 39.74\n",
            "The loss for Epoch 17 is: 1.9785221461444864, Accuracy = 39.928\n",
            "The loss for Epoch 18 is: 1.9768098883921532, Accuracy = 40.05\n",
            "The loss for Epoch 19 is: 1.9754769924046742, Accuracy = 39.932\n",
            "The loss for Epoch 20 is: 1.9740049433525262, Accuracy = 40.092\n",
            "The loss for Epoch 21 is: 1.972581442054885, Accuracy = 40.162\n",
            "The loss for Epoch 22 is: 1.9713840414496029, Accuracy = 40.232\n",
            "The loss for Epoch 23 is: 1.9697600537553772, Accuracy = 40.408\n",
            "The loss for Epoch 24 is: 1.9686628005388753, Accuracy = 40.294\n",
            "CPU times: user 5min 9s, sys: 2.9 s, total: 5min 12s\n",
            "Wall time: 5min 20s\n"
          ]
        }
      ],
      "source": [
        "%%time\n",
        "# Sending the data to device (CPU or GPU)\n",
        "# TODO\n",
        "logreg = LogReg().to(device)\n",
        "criterion = nn.CrossEntropyLoss()\n",
        "# END TODO\n",
        "optimizer = optim.Adam(logreg.parameters(), lr=1e-4) #lr - learning step\n",
        "epoch = 25\n",
        "\n",
        "loss_LIST_log = []\n",
        "acc_LIST_log = []\n",
        "\n",
        "# Train the Logistic Regression\n",
        "for epoch in range(epoch):\n",
        "  running_loss = 0.0\n",
        "  correct = 0\n",
        "  total = 0\n",
        "  for inputs, labels in train_loader:\n",
        "      labels = labels.type(torch.LongTensor) # Cast to Float\n",
        "      inputs, labels = inputs.to(device), labels.to(device)\n",
        "      \n",
        "      # TODO: Complete the body of this for-loop\n",
        "      outputs = logreg(inputs) # Feed the network the train data\n",
        "      optimizer.zero_grad() # We need to reset the optimizer tensor gradient every mini-batch\n",
        "      loss = criterion(outputs, labels) # this is the average loss for one mini-batch of inputs\n",
        "      loss.backward() # Do a back propagation\n",
        "      optimizer.step() # Update the weight using the gradients from back propagation by learning step\n",
        "\n",
        "      running_loss += loss.item() #get the accumulated loss for each epoch\n",
        "\n",
        "    \n",
        "      \n",
        "      _, predicted = torch.max(outputs.data, 1) # use max to get the prediction\n",
        "      total += labels.size(0)\n",
        "      correct += (predicted == labels).sum().item()\n",
        "  \n",
        "  accuracy = 100 * correct / total\n",
        "  acc_LIST_log.append(accuracy)\n",
        "  loss_LIST_log.append(running_loss / len(train_loader) ) # get the avg loss for each epoch\n",
        "  # END TODO   \n",
        "  \n",
        "  # print statistics\n",
        "  print(\"The loss for Epoch {} is: {}, Accuracy = {}\".format(epoch, running_loss/len(train_loader), accuracy))"
      ]
    },
    {
      "cell_type": "markdown",
      "metadata": {
        "id": "efA1Z3cUQ5VO"
      },
      "source": [
        "### 2.1.3 Plotting Training Accuracy vs Epochs for Logistic Regression (3 points - Manual)\n",
        "\n",
        "Plot the training accuracy vs epochs on a line plot. The accuracy should be on the y-axis and the epoch number should be on the x-axis.\n",
        "\n",
        "Please use appropriate figure title and axis labels for this plot."
      ]
    },
    {
      "cell_type": "code",
      "execution_count": 24,
      "metadata": {
        "id": "egHnr8XKQ_xO",
        "colab": {
          "base_uri": "https://localhost:8080/",
          "height": 318
        },
        "outputId": "ddd6ba82-72d1-4ecd-8cf7-bf941313a086"
      },
      "outputs": [
        {
          "output_type": "execute_result",
          "data": {
            "text/plain": [
              "Text(0.5, 1.0, 'Training Accuracy -LOGREG')"
            ]
          },
          "metadata": {},
          "execution_count": 24
        },
        {
          "output_type": "display_data",
          "data": {
            "text/plain": [
              "<Figure size 432x288 with 1 Axes>"
            ],
            "image/png": "[encoded data removed]"
          },
          "metadata": {
            "needs_background": "light"
          }
        }
      ],
      "source": [
        "import matplotlib.pyplot as plt\n",
        "import seaborn as sns\n",
        "\n",
        "# TODO\n",
        "\n",
        "plt.plot(acc_LIST_log)\n",
        "plt.xlabel('epoch',fontsize = 14)\n",
        "plt.ylabel('accuracy',fontsize = 14)\n",
        "plt.title('Training Accuracy -LOGREG',fontsize = 16)\n",
        "\n",
        "# END TODO "
      ]
    },
    {
      "cell_type": "markdown",
      "metadata": {
        "id": "bri_kTIT-c55"
      },
      "source": [
        "### 2.1.4 Logistic Regression Model Accuracy and Loss (8 points)\n",
        "\n",
        "Calculate the Test Accuracy for the Logistic Regression Model we trained above.\n",
        "\n",
        "This should be similar to how we calculated training accuracy above -- please see the [Recitation 10 notebook](https://drive.google.com/file/d/1-twF9vLkQ8oDT1Ps6bqCGn_VdwXWTsZd/view?usp=sharing) for a discussion on how to do this."
      ]
    },
    {
      "cell_type": "code",
      "execution_count": 25,
      "metadata": {
        "id": "uZ6vpT9d-cZE",
        "colab": {
          "base_uri": "https://localhost:8080/"
        },
        "outputId": "dccd25f8-f76f-4a09-f1c9-158b355242e7"
      },
      "outputs": [
        {
          "output_type": "stream",
          "name": "stdout",
          "text": [
            "Test Accuracy: tensor(38.6700, device='cuda:0')\n"
          ]
        }
      ],
      "source": [
        "# TODO\n",
        "total = 0\n",
        "correct = 0\n",
        "with torch.no_grad():\n",
        "    for images, labels in test_loader:\n",
        "        labels = labels.type(torch.LongTensor) # Cast to Float\n",
        "        images, labels = images.to(device), labels.to(device)\n",
        "        # TODO: complete the body of this for-loop\n",
        "        outputs = logreg(images) # shape: torch.Size([10000, 10])\n",
        "        _, predicted = torch.max(outputs.data, 1) # use max to get the prediction\n",
        "        total += labels.size(0)\n",
        "        correct += (predicted == labels).sum()\n",
        "        # TODO END\n",
        "\n",
        "test_acc_log = 100 * correct / total\n",
        "print('Test Accuracy: ' + str(test_acc_log))"
      ]
    },
    {
      "cell_type": "code",
      "execution_count": 26,
      "metadata": {
        "id": "BNZJzodjyyDb",
        "colab": {
          "base_uri": "https://localhost:8080/"
        },
        "outputId": "e72655ac-676e-4fc0-f389-03ad9f80369f"
      },
      "outputs": [
        {
          "output_type": "stream",
          "name": "stdout",
          "text": [
            "Correct! You earned 8/8 points. You are a star!\n",
            "\n",
            "Your submission has been successfully recorded in the gradebook.\n"
          ]
        }
      ],
      "source": [
        "#Grader Cell (8 points)\n",
        "grader.grade(test_case_id = 'logistic_regression_acc_loss', answer = (test_acc_log.item(), loss_LIST_log))"
      ]
    },
    {
      "cell_type": "markdown",
      "metadata": {
        "id": "7ClfPRRtwQgP"
      },
      "source": [
        "## 2.2 Feedforward Neural Networks (23 points)\n",
        "\n",
        "![Screen Shot 2565-11-20 at 16.03.22.png](https://s2.loli.net/2022/11/21/dvqstVUzcQPChD1.png)\n"
      ]
    },
    {
      "cell_type": "markdown",
      "source": [
        "Since logistic regression isn't that great at the classification problem above, we need more representation power in our model. We will now define a feedforward neural network.\n",
        "\n",
        "Complete the *FNN* class below to define a feedforward neural network with at least 2 hidden layers. Note that the last layer must have the same number of classes as the output size! \n",
        "\n",
        "When implementing this model, please think about what activation function would be most appropriate for each layer in this classifier. "
      ],
      "metadata": {
        "id": "d-OvDQPdB4zJ"
      }
    },
    {
      "cell_type": "markdown",
      "metadata": {
        "id": "BCSX3qOJRB91"
      },
      "source": [
        "### 2.2.1 Feedforward Neural Network Model Architecture (10 points)"
      ]
    },
    {
      "cell_type": "code",
      "execution_count": 27,
      "metadata": {
        "id": "oVPC7SMCPK1j"
      },
      "outputs": [],
      "source": [
        "class FNN(nn.Module):\n",
        "    def __init__(self):\n",
        "        super().__init__()\n",
        "        # TODO\n",
        "        self.flatten = nn.Flatten(start_dim=1)\n",
        "        self.layer1=torch.nn.Linear(in_features = 3 *32 * 32, out_features = 900)\n",
        "        self.layer2=torch.nn.Linear(in_features = 900, out_features = 300)\n",
        "        self.layer3=torch.nn.Linear(in_features = 300, out_features = 10)\n",
        "        self.relu = nn.ReLU()\n",
        "        # END TODO\n",
        "\n",
        "    def forward(self, x):\n",
        "        # TODO\n",
        "        outputs = self.relu(self.layer2(self.relu(self.layer1(self.flatten(x)))))\n",
        "        outputs = self.layer3(outputs)\n",
        "\n",
        "        # END TODO\n",
        "        return outputs\n",
        "\n",
        "        \n",
        "      "
      ]
    },
    {
      "cell_type": "markdown",
      "metadata": {
        "id": "u06mTUfCN_45"
      },
      "source": [
        "Let's print the model summary"
      ]
    },
    {
      "cell_type": "code",
      "execution_count": 28,
      "metadata": {
        "id": "p8AFCAg-NpZc",
        "colab": {
          "base_uri": "https://localhost:8080/"
        },
        "outputId": "5b412a0c-570f-4576-e430-b24d079058ed"
      },
      "outputs": [
        {
          "output_type": "execute_result",
          "data": {
            "text/plain": [
              "FNN(\n",
              "  (flatten): Flatten(start_dim=1, end_dim=-1)\n",
              "  (layer1): Linear(in_features=3072, out_features=900, bias=True)\n",
              "  (layer2): Linear(in_features=900, out_features=300, bias=True)\n",
              "  (layer3): Linear(in_features=300, out_features=10, bias=True)\n",
              "  (relu): ReLU()\n",
              ")"
            ]
          },
          "metadata": {},
          "execution_count": 28
        }
      ],
      "source": [
        "FNN()"
      ]
    },
    {
      "cell_type": "code",
      "execution_count": 29,
      "metadata": {
        "id": "xYyWEhd8OHcs",
        "colab": {
          "base_uri": "https://localhost:8080/"
        },
        "outputId": "0b72ee05-4b2f-4386-8e2a-7d6600e4cbfd"
      },
      "outputs": [
        {
          "output_type": "stream",
          "name": "stdout",
          "text": [
            "Correct! You earned 10/10 points. You are a star!\n",
            "\n",
            "Your submission has been successfully recorded in the gradebook.\n"
          ]
        }
      ],
      "source": [
        "#Grader Cell (10 points)\n",
        "grader.grade(test_case_id = 'feedforward_nn_model', answer = str(FNN()))"
      ]
    },
    {
      "cell_type": "markdown",
      "source": [
        "### 2.2.2 Training FNN Model\n",
        "\n",
        "TODOs\n",
        "1.   Instantiate the FNN to the variable `fnn` (make sure to send this to the device env)\n",
        "2.   Set the loss criterion to be `CrossEntropyLoss` (you can look up the documentation [here](https://pytorch.org/docs/stable/nn.html#loss-functions))\n",
        "3.   Fill in the missing parts in the training loop below.\n",
        "4.   Save the Training Accuracy for every epoch into `acc_LIST_FNN`\n",
        "5.   Save the Average Loss for every epoch into `loss_LIST_FNN`\n",
        "\n",
        "The optimizer is set as Adam -- **please do not modify the optimizer**.\n",
        "\n",
        "Hint: Remember to update the weights correctly by backpropagation, please zero out the gradients by calling `optimizer.zero_grad()` every time you call `backward()`.  **Please review the [Recitation 10 notebook](https://drive.google.com/file/d/1-twF9vLkQ8oDT1Ps6bqCGn_VdwXWTsZd/view?usp=sharing) for detailed instructions on how to perform these operations.**\n",
        "\n",
        "**Note: If the loss went up during the training, there is something wrong with the model, so you should check if the model is implemented correctly**"
      ],
      "metadata": {
        "id": "SFb8yJ8k4vww"
      }
    },
    {
      "cell_type": "code",
      "execution_count": 30,
      "metadata": {
        "id": "mABSIOoqP7Ol",
        "colab": {
          "base_uri": "https://localhost:8080/"
        },
        "outputId": "5f885a7b-6f31-4c72-9498-99894807b27a"
      },
      "outputs": [
        {
          "output_type": "stream",
          "name": "stdout",
          "text": [
            "The loss for Epoch 0 is: 1.637236881896358, Accuracy = 42.484\n",
            "The loss for Epoch 1 is: 1.4109117821659274, Accuracy = 50.904\n",
            "The loss for Epoch 2 is: 1.2962567409895875, Accuracy = 54.986\n",
            "The loss for Epoch 3 is: 1.2069681691544136, Accuracy = 58.162\n",
            "The loss for Epoch 4 is: 1.1268669182382276, Accuracy = 61.11\n",
            "The loss for Epoch 5 is: 1.0495555605120062, Accuracy = 63.846\n",
            "The loss for Epoch 6 is: 0.9835990178767983, Accuracy = 66.184\n",
            "The loss for Epoch 7 is: 0.9142781383241229, Accuracy = 68.998\n",
            "The loss for Epoch 8 is: 0.8497190736138912, Accuracy = 70.946\n",
            "The loss for Epoch 9 is: 0.7831879156019986, Accuracy = 73.634\n",
            "The loss for Epoch 10 is: 0.7209518538106738, Accuracy = 75.95\n",
            "The loss for Epoch 11 is: 0.6663135227263736, Accuracy = 77.62\n",
            "The loss for Epoch 12 is: 0.6066239978879919, Accuracy = 80.004\n",
            "The loss for Epoch 13 is: 0.5538955669650032, Accuracy = 81.828\n",
            "The loss for Epoch 14 is: 0.5035082557050469, Accuracy = 83.618\n",
            "The loss for Epoch 15 is: 0.4560173734298448, Accuracy = 85.294\n",
            "The loss for Epoch 16 is: 0.4107700323547854, Accuracy = 86.908\n",
            "The loss for Epoch 17 is: 0.3697273936075018, Accuracy = 88.38\n",
            "The loss for Epoch 18 is: 0.3363517612942954, Accuracy = 89.63\n",
            "The loss for Epoch 19 is: 0.309206423857023, Accuracy = 90.438\n",
            "The loss for Epoch 20 is: 0.2702164957514199, Accuracy = 91.812\n",
            "The loss for Epoch 21 is: 0.24700777092591272, Accuracy = 92.578\n",
            "The loss for Epoch 22 is: 0.22034073158946182, Accuracy = 93.558\n",
            "The loss for Epoch 23 is: 0.2079278446086075, Accuracy = 93.828\n",
            "The loss for Epoch 24 is: 0.18360903649531363, Accuracy = 94.662\n",
            "CPU times: user 5min 34s, sys: 3.37 s, total: 5min 38s\n",
            "Wall time: 5min 39s\n"
          ]
        }
      ],
      "source": [
        "%%time\n",
        "# Sending the data to device (CPU or GPU)\n",
        "# TODO\n",
        "fnn = FNN().to(device)\n",
        "criterion = nn.CrossEntropyLoss()\n",
        "# END TODO \n",
        "optimizer = optim.Adam(fnn.parameters(), lr=1e-4) #lr - learning step\n",
        "epoch = 25\n",
        "\n",
        "acc_LIST_FNN = []\n",
        "loss_LIST_FNN = []\n",
        "\n",
        "# Train the FNN\n",
        "for epoch in range(epoch):\n",
        "  running_loss = 0.0\n",
        "  correct = 0\n",
        "  total = 0\n",
        "  for inputs, labels in train_loader:\n",
        "      labels = labels.type(torch.LongTensor) # Cast to Long\n",
        "      inputs, labels = inputs.to(device), labels.to(device)\n",
        "      \n",
        "      # TODO\n",
        "      outputs = fnn(inputs) # Feed the network the train data\n",
        "      optimizer.zero_grad() # We need to reset the optimizer tensor gradient every mini-batch\n",
        "      loss = criterion(outputs, labels) # this is the average loss for one mini-batch of inputs\n",
        "      loss.backward() # Do a back propagation\n",
        "      optimizer.step() # Update the weight using the gradients from back propagation by learning step\n",
        "\n",
        "      running_loss += loss.item() #get the accumulated loss for each epoch\n",
        "\n",
        "    \n",
        "      \n",
        "      _, predicted = torch.max(outputs.data, 1) # use max to get the prediction\n",
        "      total += labels.size(0)\n",
        "      correct += (predicted == labels).sum().item()\n",
        "  \n",
        "     \n",
        "\n",
        "  accuracy =  100 * correct / total # Calculate Training Acc\n",
        "  acc_LIST_FNN.append(accuracy)\n",
        "  loss_LIST_FNN.append( running_loss / len(train_loader)) # get the avg loss for each epoch\n",
        "  \n",
        "  # END TODO \n",
        "\n",
        "  # print statistics\n",
        "  print(\"The loss for Epoch {} is: {}, Accuracy = {}\".format(epoch, running_loss/len(train_loader), accuracy))"
      ]
    },
    {
      "cell_type": "markdown",
      "source": [
        "### 2.2.3 Plotting Training Accuracy vs Epochs FNN (3 points - Manually Graded)\n",
        "\n",
        "Plot the training accuracy vs epochs. The accuracy should be in the y-axis and epochs in x-axis.\n",
        "\n",
        "Please set appropriate figure title and names for axis."
      ],
      "metadata": {
        "id": "48RVk9yw5HVI"
      }
    },
    {
      "cell_type": "code",
      "source": [
        "import matplotlib.pyplot as plt\n",
        "import seaborn as sns\n",
        "\n",
        "# TODO\n",
        "plt.plot(acc_LIST_FNN)\n",
        "plt.xlabel('epoch',fontsize = 14)\n",
        "plt.ylabel('accuracy',fontsize = 14)\n",
        "plt.title('Training Accuracy - FNN',fontsize = 16)\n",
        "\n",
        "# END TODO "
      ],
      "metadata": {
        "id": "9SS634UV5MRE",
        "colab": {
          "base_uri": "https://localhost:8080/",
          "height": 318
        },
        "outputId": "60d2ff23-b946-48e4-e895-25926daef8d6"
      },
      "execution_count": 31,
      "outputs": [
        {
          "output_type": "execute_result",
          "data": {
            "text/plain": [
              "Text(0.5, 1.0, 'Training Accuracy - FNN')"
            ]
          },
          "metadata": {},
          "execution_count": 31
        },
        {
          "output_type": "display_data",
          "data": {
            "text/plain": [
              "<Figure size 432x288 with 1 Axes>"
            ],
            "image/png": "[encoded data removed]"
          },
          "metadata": {
            "needs_background": "light"
          }
        }
      ]
    },
    {
      "cell_type": "markdown",
      "metadata": {
        "id": "a1qkr5Mp_CtD"
      },
      "source": [
        "### 2.2.4 FNN Model Accuracy and Loss (10 points)\n",
        "\n",
        "Calculate the Test Accuracy for the FNN Model we trained above (the technique for doing this is the same as computing the test accuracy for the logistic regression classifier above). "
      ]
    },
    {
      "cell_type": "code",
      "execution_count": 32,
      "metadata": {
        "id": "_fQ0KlCF_BkE",
        "colab": {
          "base_uri": "https://localhost:8080/"
        },
        "outputId": "cdc38203-e24f-4e59-dae3-d1f99a6d7cb1"
      },
      "outputs": [
        {
          "output_type": "stream",
          "name": "stdout",
          "text": [
            "Test Accuracy: tensor(54.6200, device='cuda:0')\n"
          ]
        }
      ],
      "source": [
        "\n",
        "total = 0\n",
        "correct = 0\n",
        "with torch.no_grad():\n",
        "    for images, labels in test_loader:\n",
        "        labels = labels.type(torch.LongTensor) # Cast to Float\n",
        "        images, labels = images.to(device), labels.to(device)\n",
        "        # TODO: complete each iteration of the for-loop\n",
        "        outputs = fnn(images) # shape: torch.Size([10000, 10])\n",
        "        _, predicted = torch.max(outputs.data, 1) # use max to get the prediction\n",
        "        total += labels.size(0)\n",
        "        correct += (predicted == labels).sum()\n",
        "\n",
        "test_acc_FNN = 100 * correct / total\n",
        "# TODO END\n",
        "print('Test Accuracy: ' + str(test_acc_FNN))"
      ]
    },
    {
      "cell_type": "code",
      "execution_count": 33,
      "metadata": {
        "id": "8kLxDVAb_CNN",
        "colab": {
          "base_uri": "https://localhost:8080/"
        },
        "outputId": "cdbc9829-732a-43d6-ce48-3ab454161912"
      },
      "outputs": [
        {
          "output_type": "stream",
          "name": "stdout",
          "text": [
            "Correct! You earned 10/10 points. You are a star!\n",
            "\n",
            "Your submission has been successfully recorded in the gradebook.\n"
          ]
        }
      ],
      "source": [
        "#Grader Cell (10 points)\n",
        "grader.grade(test_case_id = 'feedforward_nn_acc_loss', answer = (test_acc_FNN.item(), loss_LIST_FNN))"
      ]
    },
    {
      "cell_type": "markdown",
      "metadata": {
        "id": "GA7Kpm4Nwkk1"
      },
      "source": [
        "## 2.3 Convoluted Convolutional Neural Networks (26 points)\n",
        "\n",
        "So, what are CNNs?\n",
        "\n",
        "Convolutional Neural Networks are very similar to Feedforward Neural Networks from the previous section: they are made up of neurons that have learnable weights and biases. Each neuron receives some inputs, performs a dot product and optionally follows it with a non-linearity. The whole network still expresses a single differentiable score function: from the raw image pixels on one end to class scores at the other.\n",
        "\n",
        "So what changes? ConvNet architectures make the explicit assumption that the inputs are images, which allows us to encode certain properties into the architecture. These then make the forward function more efficient to implement and vastly reduce the amount of parameters in the network.\n",
        "\n",
        "If you wanna know more about how CNNs function and see some cool visualizations, we would highly recommend [this](https://cs231n.github.io/convolutional-networks/) page\n",
        "\n",
        "![Screen Shot 2565-11-20 at 16.01.53.png](https://s2.loli.net/2022/11/21/L6pUz2chXWRGn31.png)"
      ]
    },
    {
      "cell_type": "markdown",
      "metadata": {
        "id": "tLLBbUC8xWFb"
      },
      "source": [
        "We will define the architecture for the CNN we will be using. The components of a CNNs are as follows: \n",
        "\n",
        "*   Convolutional Layers\n",
        "*   Pooling Layers\n",
        "*   Linear Layers\n",
        "*   Activation Functions\n",
        "\n",
        "Define a CNN model with Pytorch that contains one or more layers, where each layer consists of a convolutional layer followed by an activation function and a max pool. (For this assignment, we discourage adding three or more layers.)\n",
        "\n",
        "Then, flatten the output from the convolutional layers, and pass it through one or more fully connected or 'dense' layers and activation functions after all but the last layer. Note that the output shape from the last layer must be the same as the number of classes."
      ]
    },
    {
      "cell_type": "markdown",
      "metadata": {
        "id": "PnJqRtLgReDk"
      },
      "source": [
        "### 2.3.1 Convolutional Neural Network Model Architecture (12 points)"
      ]
    },
    {
      "cell_type": "code",
      "execution_count": 34,
      "metadata": {
        "id": "kNtMz5NbvKKA"
      },
      "outputs": [],
      "source": [
        "class CNN(nn.Module):\n",
        "    def __init__(self):\n",
        "        super().__init__()\n",
        "        # TODO: complete the constructor of the CNN class\n",
        "        self.conv = nn.Conv2d(in_channels = 3, out_channels=20, kernel_size=2, padding = 1) # 20 * 33 * 33\n",
        "        self.relu = nn.ReLU()\n",
        "        self.mp = nn.MaxPool2d(kernel_size = 2, stride = 2) #20 * 16 * 16\n",
        "\n",
        "        self.flatten = nn.Flatten(start_dim=1) \n",
        "\n",
        "        self.fc = nn.Linear(in_features = 20 * 16 * 16, out_features=2000)\n",
        "        self.fc0 = nn.Linear(in_features = 2000, out_features=1000)\n",
        "        self.fc1 = nn.Linear(in_features = 1000, out_features=500)\n",
        "        self.fc2 = nn.Linear(in_features = 500, out_features=200)\n",
        "        self.fc3 = nn.Linear(in_features = 200, out_features=10)\n",
        "    \n",
        "        # END TODO\n",
        "    \n",
        "    def forward(self, x):\n",
        "        # TODO: Implement the forward() method of the CNN class\n",
        "        outputs = self.mp(self.relu(self.conv(x)))\n",
        "        outputs = self.flatten(outputs)\n",
        "        #print(outputs.shape)\n",
        "        outputs = self.fc3(self.relu(self.fc2(self.relu(self.fc1(self.relu(self.fc0(self.relu(self.fc(outputs)))))))))\n",
        "\n",
        "        # END TODO\n",
        "        return outputs\n",
        "\n",
        " "
      ]
    },
    {
      "cell_type": "markdown",
      "metadata": {
        "id": "VjZnjGETPZxY"
      },
      "source": [
        "Let's print out the model summary"
      ]
    },
    {
      "cell_type": "code",
      "execution_count": 35,
      "metadata": {
        "id": "EgqfRi0YPZIW",
        "colab": {
          "base_uri": "https://localhost:8080/"
        },
        "outputId": "75f4ac35-033e-4f94-91e9-0891845cb97d"
      },
      "outputs": [
        {
          "output_type": "execute_result",
          "data": {
            "text/plain": [
              "CNN(\n",
              "  (conv): Conv2d(3, 20, kernel_size=(2, 2), stride=(1, 1), padding=(1, 1))\n",
              "  (relu): ReLU()\n",
              "  (mp): MaxPool2d(kernel_size=2, stride=2, padding=0, dilation=1, ceil_mode=False)\n",
              "  (flatten): Flatten(start_dim=1, end_dim=-1)\n",
              "  (fc): Linear(in_features=5120, out_features=2000, bias=True)\n",
              "  (fc0): Linear(in_features=2000, out_features=1000, bias=True)\n",
              "  (fc1): Linear(in_features=1000, out_features=500, bias=True)\n",
              "  (fc2): Linear(in_features=500, out_features=200, bias=True)\n",
              "  (fc3): Linear(in_features=200, out_features=10, bias=True)\n",
              ")"
            ]
          },
          "metadata": {},
          "execution_count": 35
        }
      ],
      "source": [
        "CNN()"
      ]
    },
    {
      "cell_type": "code",
      "execution_count": 36,
      "metadata": {
        "id": "WVgjtXgTPkvd",
        "colab": {
          "base_uri": "https://localhost:8080/"
        },
        "outputId": "38d76c1d-3c9e-41ed-99c5-971123dbded9"
      },
      "outputs": [
        {
          "output_type": "stream",
          "name": "stdout",
          "text": [
            "Correct! You earned 12/12 points. You are a star!\n",
            "\n",
            "Your submission has been successfully recorded in the gradebook.\n"
          ]
        }
      ],
      "source": [
        "#Grader Cell (15 points)\n",
        "grader.grade(test_case_id = 'cnn_model', answer = str(CNN()))"
      ]
    },
    {
      "cell_type": "markdown",
      "source": [
        "### 2.3.2 Training CNN Model\n",
        "\n",
        "TODOs\n",
        "1.   Instantiate the CNN to the variable `cnn` (make sure to send this to the device env)\n",
        "2.   Set the criterion as a CrossEntropyLoss (you can look up the documentation [here](https://pytorch.org/docs/stable/nn.html#loss-functions))\n",
        "3.   Fill in the missing parts in the training loop.\n",
        "4.   Save the Training Accuracy for every epoch into `acc_LIST_CNN`\n",
        "5.   Save the Average Loss for every epoch into `loss_LIST_CNN`\n",
        "\n",
        "The optimizer is set as Adam -- **please do not modify the optimizer**.\n",
        "\n",
        "Hint: Remember to update the weights correctly by backpropagation, please zero out the gradients by calling `optimizer.zero_grad()` every time you call `backward()`.  **Please review the [Recitation 10 notebook](https://drive.google.com/file/d/1-twF9vLkQ8oDT1Ps6bqCGn_VdwXWTsZd/view?usp=sharing) for detailed instructions on how to perform these operations.**\n",
        "\n",
        "**Note: If the loss went up during the training, there is something wrong with the model, so you should check if the model is implemented correctly**"
      ],
      "metadata": {
        "id": "OIcOMUqY5nao"
      }
    },
    {
      "cell_type": "code",
      "execution_count": 37,
      "metadata": {
        "id": "lVrwOHwlyqnV",
        "colab": {
          "base_uri": "https://localhost:8080/"
        },
        "outputId": "cbac607f-afae-4880-8dbe-3661f875e967"
      },
      "outputs": [
        {
          "output_type": "stream",
          "name": "stdout",
          "text": [
            "The loss for Epoch 0 is: 1.6028024433823802, Accuracy = 41.762\n",
            "The loss for Epoch 1 is: 1.2617659544395974, Accuracy = 54.562\n",
            "The loss for Epoch 2 is: 1.1134731561479057, Accuracy = 60.102\n",
            "The loss for Epoch 3 is: 0.9917189202192799, Accuracy = 64.604\n",
            "The loss for Epoch 4 is: 0.888085673265445, Accuracy = 68.432\n",
            "The loss for Epoch 5 is: 0.7926176243730824, Accuracy = 71.936\n",
            "The loss for Epoch 6 is: 0.6982777181946104, Accuracy = 75.36\n",
            "The loss for Epoch 7 is: 0.6044654017290496, Accuracy = 78.672\n",
            "The loss for Epoch 8 is: 0.5072143393404344, Accuracy = 82.388\n",
            "The loss for Epoch 9 is: 0.41525959991433126, Accuracy = 85.534\n",
            "The loss for Epoch 10 is: 0.33562518767726696, Accuracy = 88.392\n",
            "The loss for Epoch 11 is: 0.2684143930006668, Accuracy = 90.688\n",
            "The loss for Epoch 12 is: 0.20922080464089465, Accuracy = 92.706\n",
            "The loss for Epoch 13 is: 0.165375187488087, Accuracy = 94.352\n",
            "The loss for Epoch 14 is: 0.13440180089696288, Accuracy = 95.36\n",
            "The loss for Epoch 15 is: 0.11769793442476664, Accuracy = 95.906\n",
            "The loss for Epoch 16 is: 0.10151985360076056, Accuracy = 96.404\n",
            "The loss for Epoch 17 is: 0.08236724038160576, Accuracy = 97.098\n",
            "The loss for Epoch 18 is: 0.08458543275637775, Accuracy = 96.996\n",
            "The loss for Epoch 19 is: 0.06426356174766332, Accuracy = 97.828\n",
            "The loss for Epoch 20 is: 0.07499169267605647, Accuracy = 97.45\n",
            "The loss for Epoch 21 is: 0.05822354243488272, Accuracy = 98.002\n",
            "The loss for Epoch 22 is: 0.05267099117237332, Accuracy = 98.216\n",
            "The loss for Epoch 23 is: 0.05798333171693146, Accuracy = 97.95\n",
            "The loss for Epoch 24 is: 0.05518896967191082, Accuracy = 98.116\n",
            "CPU times: user 7min 39s, sys: 3.26 s, total: 7min 42s\n",
            "Wall time: 7min 43s\n"
          ]
        }
      ],
      "source": [
        "%%time\n",
        "# Sending the data to device (CPU or GPU)\n",
        "# TODO\n",
        "cnn = CNN().to(device)\n",
        "criterion = nn.CrossEntropyLoss()\n",
        "# END TODO\n",
        "optimizer = optim.Adam(cnn.parameters(), lr=1e-4) #lr - learning step\n",
        "epoch = 25\n",
        "\n",
        "acc_LIST_CNN = []\n",
        "loss_LIST_CNN = []\n",
        "\n",
        "# Train the CNN\n",
        "for epoch in range(epoch):\n",
        "  running_loss = 0.0\n",
        "  correct = 0\n",
        "  total = 0\n",
        "  for inputs, labels in train_loader:\n",
        "      labels = labels.type(torch.LongTensor) # Cast to Float\n",
        "      inputs, labels = inputs.to(device), labels.to(device)\n",
        "      # TODO: complete the body of this for-loop\n",
        "      outputs = cnn(inputs) # Feed the network the train data\n",
        "      optimizer.zero_grad() # We need to reset the optimizer tensor gradient every mini-batch\n",
        "      loss = criterion(outputs, labels) # this is the average loss for one mini-batch of inputs\n",
        "      loss.backward() # Do a back propagation\n",
        "      optimizer.step() # Update the weight using the gradients from back propagation by learning step\n",
        "\n",
        "      running_loss += loss.item() #get the accumulated loss for each epoch\n",
        "\n",
        "      _, predicted = torch.max(outputs.data, 1) # use max to get the prediction\n",
        "      total += labels.size(0)\n",
        "      correct += (predicted == labels).sum().item()\n",
        "  \n",
        "      \n",
        "  accuracy = 100 * correct / total # Calculate Trining Acc\n",
        "  acc_LIST_CNN.append(accuracy)\n",
        "  loss_LIST_CNN.append(running_loss / len(train_loader)) # get the avg loss for each epoch\n",
        "  \n",
        "  # END TODO\n",
        "  # print statistics\n",
        "  print(\"The loss for Epoch {} is: {}, Accuracy = {}\".format(epoch, running_loss/len(train_loader), accuracy))"
      ]
    },
    {
      "cell_type": "markdown",
      "source": [
        "### 2.3.3 Plotting Training Accuracy vs Epochs CNN (4 points - Manually Graded)\n",
        "\n",
        "Plot the training accuracy vs epochs. The accuracy should be in the y-axis and epochs in x-axis.\n",
        "\n",
        "Please set appropriate figure title and names for axis."
      ],
      "metadata": {
        "id": "0xVQqQio596P"
      }
    },
    {
      "cell_type": "code",
      "source": [
        "import matplotlib.pyplot as plt\n",
        "import seaborn as sns\n",
        "\n",
        "# TODO\n",
        "plt.plot(acc_LIST_CNN)\n",
        "plt.xlabel('epoch',fontsize = 14)\n",
        "plt.ylabel('accuracy',fontsize = 14)\n",
        "plt.title('Training Accuracy - CNN',fontsize = 16)\n",
        "\n",
        "# END TODO "
      ],
      "metadata": {
        "id": "7v-gFQOS5-M5",
        "colab": {
          "base_uri": "https://localhost:8080/",
          "height": 318
        },
        "outputId": "5eea0fb9-dec9-49d7-ef17-d1e307528bf5"
      },
      "execution_count": 38,
      "outputs": [
        {
          "output_type": "execute_result",
          "data": {
            "text/plain": [
              "Text(0.5, 1.0, 'Training Accuracy - CNN')"
            ]
          },
          "metadata": {},
          "execution_count": 38
        },
        {
          "output_type": "display_data",
          "data": {
            "text/plain": [
              "<Figure size 432x288 with 1 Axes>"
            ],
            "image/png": "[encoded data removed]"
          },
          "metadata": {
            "needs_background": "light"
          }
        }
      ]
    },
    {
      "cell_type": "markdown",
      "metadata": {
        "id": "ppEVbd6E0UGO"
      },
      "source": [
        "### 2.3.4 CNN Model Accuracy and Loss (10 points)\n",
        "\n",
        "Calculate the Test Accuracy for the CNN Model we trained above. The technique for doing this is the same as computing the test accuracy for the logistic regression and FFN classifiers above."
      ]
    },
    {
      "cell_type": "code",
      "execution_count": 39,
      "metadata": {
        "id": "78Hg9I3VzYdX",
        "colab": {
          "base_uri": "https://localhost:8080/"
        },
        "outputId": "c4dda1a7-6a96-468f-d856-7cffdd84633c"
      },
      "outputs": [
        {
          "output_type": "stream",
          "name": "stdout",
          "text": [
            "Test Accuracy: tensor(66.1200, device='cuda:0')\n"
          ]
        }
      ],
      "source": [
        "# TODO\n",
        "total = 0\n",
        "correct = 0\n",
        "with torch.no_grad():\n",
        "    for images, labels in test_loader:\n",
        "        labels = labels.type(torch.LongTensor) # Cast to Float\n",
        "        images, labels = images.to(device), labels.to(device)\n",
        "        # TODO\n",
        "        outputs = cnn(images) # shape: torch.Size([10000, 10])\n",
        "        _, predicted = torch.max(outputs.data, 1) # use max to get the prediction\n",
        "        total += labels.size(0)\n",
        "        correct += (predicted == labels).sum()\n",
        "\n",
        "test_acc_CNN = 100 * correct / total\n",
        "# END TODO\n",
        "print(f'Test Accuracy: ' + str(test_acc_CNN))"
      ]
    },
    {
      "cell_type": "code",
      "execution_count": 40,
      "metadata": {
        "id": "QWRNUKmiP20w",
        "colab": {
          "base_uri": "https://localhost:8080/"
        },
        "outputId": "e909d25f-a824-48d7-cb02-5ad275be3f29"
      },
      "outputs": [
        {
          "output_type": "stream",
          "name": "stdout",
          "text": [
            "Correct! You earned 10/10 points. You are a star!\n",
            "\n",
            "Your submission has been successfully recorded in the gradebook.\n"
          ]
        }
      ],
      "source": [
        "#Grader Cell (10 points)\n",
        "grader.grade(test_case_id = 'cnn_acc_loss', answer = (test_acc_CNN.item(), loss_LIST_CNN))"
      ]
    },
    {
      "cell_type": "markdown",
      "metadata": {
        "id": "m0SGqhZW6PWL"
      },
      "source": [
        "**From the test accuracies we can confirm that CNN works better than Logistic and FNN**\n",
        "\n",
        "**This is due to the intrinsic structure of CNN, where it captures the semantic of the image**."
      ]
    },
    {
      "cell_type": "markdown",
      "metadata": {
        "id": "iG4LC4oi0ge-"
      },
      "source": [
        "## 2.4 Confusion Matrix (10 points)\n",
        "\n",
        "We want to give you some insight into how you can further analyze the performance of the classification model you have trained. \n",
        "\n",
        "Upto now we have only used accuracy as a measure of performance. Although accuracy is simple and widely used measure, there are drawbacks to using accuracy.\n",
        "\n",
        "Assume that we are trying to train a model to detect a rare disease from CT images of patients. For simplicity, assume that this rare disease has an incidence rate of 1%.\n",
        "\n",
        "In this situation, if we train a degenerative model which always predicts that the patient does not have the disease, the accuracy is very high, namely 99%! Obviously in this case, accuracy is not a good measure of performance of the model.\n",
        "\n",
        "This example serves to motivate confusion matrices and related metrics.\n",
        "\n",
        "A confusion matrix is defined to be $C \\times C$ 2D matrix, where $C$ is number of distinct labels in the dataset. In this matrix, the rows represent the actual labels and the columns represent the predicted labels. \n",
        "\n",
        "The $(i, j)$-th entry of the confusion matrix contains the no. of data points where the actual label is $i$ but the model predicted $j$. \n",
        "\n",
        "![Screen Shot 2022-03-23 at 11.40.02 PM.png](data:image/png;base64,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)\n",
        "\n",
        "The provided image is an example of a confusion matrix for binary classification (C = 2), but you can easily imagine this scaling up to C > 2.\n",
        "\n",
        "From this confusion matrix we can get all sorts of useful metrics such as False Positive Rate (FPR), False Negative Rate (FNR), Recall, Precision, etc... If you are interested in learning more about confusion matrix and related metrics [this wikipedia page](https://en.wikipedia.org/wiki/Confusion_matrix#cite_note-11) is a good place to look at. \n",
        "\n",
        "\n",
        "\n",
        "\n",
        "\n"
      ]
    },
    {
      "cell_type": "markdown",
      "metadata": {
        "id": "iaH4zJwg0vJL"
      },
      "source": [
        "### 2.4.1 Create a confusion matrix (6 points)\n",
        "\n",
        "For the test dataset using the CNN model you have trained above, create a confusion matrix. Please save the confusion matrix as a pandas dataframe called `confusion_matrix_df`."
      ]
    },
    {
      "cell_type": "code",
      "execution_count": 41,
      "metadata": {
        "id": "H9Ynwt050nfj",
        "colab": {
          "base_uri": "https://localhost:8080/",
          "height": 376
        },
        "outputId": "123a418d-68c9-4b18-b86c-236e62817a48"
      },
      "outputs": [
        {
          "output_type": "stream",
          "name": "stdout",
          "text": [
            "tensor([9., 9., 9.,  ..., 3., 7., 3.], device='cuda:0')\n"
          ]
        },
        {
          "output_type": "execute_result",
          "data": {
            "text/plain": [
              "       0      1      2      3      4      5      6      7      8      9\n",
              "0  773.0   11.0   69.0   12.0   23.0    7.0   12.0   20.0   41.0   32.0\n",
              "1   30.0  741.0   20.0   15.0    5.0    9.0   10.0   16.0   20.0  134.0\n",
              "2   66.0    9.0  566.0   53.0  116.0   76.0   41.0   62.0    7.0    4.0\n",
              "3   26.0   11.0   93.0  378.0   80.0  208.0   68.0  103.0    9.0   24.0\n",
              "4   24.0    1.0   96.0   35.0  654.0   44.0   44.0   89.0    8.0    5.0\n",
              "5   18.0    7.0   67.0  118.0   65.0  593.0   24.0   89.0    9.0   10.0\n",
              "6    7.0    9.0   72.0   42.0  103.0   40.0  695.0   25.0    4.0    3.0\n",
              "7   17.0    6.0   39.0   21.0   61.0   64.0    5.0  772.0    4.0   11.0\n",
              "8  129.0   52.0   31.0   10.0   16.0    9.0   10.0    7.0  700.0   36.0\n",
              "9   54.0   85.0   21.0   10.0    4.0   17.0    6.0   37.0   26.0  740.0"
            ],
            "text/html": [
              "\n",
              "  <div id=\"df-a18c1e4d-f53b-4644-a84f-b7a08474ddf1\">\n",
              "    <div class=\"colab-df-container\">\n",
              "      <div>\n",
              "<style scoped>\n",
              "    .dataframe tbody tr th:only-of-type {\n",
              "        vertical-align: middle;\n",
              "    }\n",
              "\n",
              "    .dataframe tbody tr th {\n",
              "        vertical-align: top;\n",
              "    }\n",
              "\n",
              "    .dataframe thead th {\n",
              "        text-align: right;\n",
              "    }\n",
              "</style>\n",
              "<table border=\"1\" class=\"dataframe\">\n",
              "  <thead>\n",
              "    <tr style=\"text-align: right;\">\n",
              "      <th></th>\n",
              "      <th>0</th>\n",
              "      <th>1</th>\n",
              "      <th>2</th>\n",
              "      <th>3</th>\n",
              "      <th>4</th>\n",
              "      <th>5</th>\n",
              "      <th>6</th>\n",
              "      <th>7</th>\n",
              "      <th>8</th>\n",
              "      <th>9</th>\n",
              "    </tr>\n",
              "  </thead>\n",
              "  <tbody>\n",
              "    <tr>\n",
              "      <th>0</th>\n",
              "      <td>773.0</td>\n",
              "      <td>11.0</td>\n",
              "      <td>69.0</td>\n",
              "      <td>12.0</td>\n",
              "      <td>23.0</td>\n",
              "      <td>7.0</td>\n",
              "      <td>12.0</td>\n",
              "      <td>20.0</td>\n",
              "      <td>41.0</td>\n",
              "      <td>32.0</td>\n",
              "    </tr>\n",
              "    <tr>\n",
              "      <th>1</th>\n",
              "      <td>30.0</td>\n",
              "      <td>741.0</td>\n",
              "      <td>20.0</td>\n",
              "      <td>15.0</td>\n",
              "      <td>5.0</td>\n",
              "      <td>9.0</td>\n",
              "      <td>10.0</td>\n",
              "      <td>16.0</td>\n",
              "      <td>20.0</td>\n",
              "      <td>134.0</td>\n",
              "    </tr>\n",
              "    <tr>\n",
              "      <th>2</th>\n",
              "      <td>66.0</td>\n",
              "      <td>9.0</td>\n",
              "      <td>566.0</td>\n",
              "      <td>53.0</td>\n",
              "      <td>116.0</td>\n",
              "      <td>76.0</td>\n",
              "      <td>41.0</td>\n",
              "      <td>62.0</td>\n",
              "      <td>7.0</td>\n",
              "      <td>4.0</td>\n",
              "    </tr>\n",
              "    <tr>\n",
              "      <th>3</th>\n",
              "      <td>26.0</td>\n",
              "      <td>11.0</td>\n",
              "      <td>93.0</td>\n",
              "      <td>378.0</td>\n",
              "      <td>80.0</td>\n",
              "      <td>208.0</td>\n",
              "      <td>68.0</td>\n",
              "      <td>103.0</td>\n",
              "      <td>9.0</td>\n",
              "      <td>24.0</td>\n",
              "    </tr>\n",
              "    <tr>\n",
              "      <th>4</th>\n",
              "      <td>24.0</td>\n",
              "      <td>1.0</td>\n",
              "      <td>96.0</td>\n",
              "      <td>35.0</td>\n",
              "      <td>654.0</td>\n",
              "      <td>44.0</td>\n",
              "      <td>44.0</td>\n",
              "      <td>89.0</td>\n",
              "      <td>8.0</td>\n",
              "      <td>5.0</td>\n",
              "    </tr>\n",
              "    <tr>\n",
              "      <th>5</th>\n",
              "      <td>18.0</td>\n",
              "      <td>7.0</td>\n",
              "      <td>67.0</td>\n",
              "      <td>118.0</td>\n",
              "      <td>65.0</td>\n",
              "      <td>593.0</td>\n",
              "      <td>24.0</td>\n",
              "      <td>89.0</td>\n",
              "      <td>9.0</td>\n",
              "      <td>10.0</td>\n",
              "    </tr>\n",
              "    <tr>\n",
              "      <th>6</th>\n",
              "      <td>7.0</td>\n",
              "      <td>9.0</td>\n",
              "      <td>72.0</td>\n",
              "      <td>42.0</td>\n",
              "      <td>103.0</td>\n",
              "      <td>40.0</td>\n",
              "      <td>695.0</td>\n",
              "      <td>25.0</td>\n",
              "      <td>4.0</td>\n",
              "      <td>3.0</td>\n",
              "    </tr>\n",
              "    <tr>\n",
              "      <th>7</th>\n",
              "      <td>17.0</td>\n",
              "      <td>6.0</td>\n",
              "      <td>39.0</td>\n",
              "      <td>21.0</td>\n",
              "      <td>61.0</td>\n",
              "      <td>64.0</td>\n",
              "      <td>5.0</td>\n",
              "      <td>772.0</td>\n",
              "      <td>4.0</td>\n",
              "      <td>11.0</td>\n",
              "    </tr>\n",
              "    <tr>\n",
              "      <th>8</th>\n",
              "      <td>129.0</td>\n",
              "      <td>52.0</td>\n",
              "      <td>31.0</td>\n",
              "      <td>10.0</td>\n",
              "      <td>16.0</td>\n",
              "      <td>9.0</td>\n",
              "      <td>10.0</td>\n",
              "      <td>7.0</td>\n",
              "      <td>700.0</td>\n",
              "      <td>36.0</td>\n",
              "    </tr>\n",
              "    <tr>\n",
              "      <th>9</th>\n",
              "      <td>54.0</td>\n",
              "      <td>85.0</td>\n",
              "      <td>21.0</td>\n",
              "      <td>10.0</td>\n",
              "      <td>4.0</td>\n",
              "      <td>17.0</td>\n",
              "      <td>6.0</td>\n",
              "      <td>37.0</td>\n",
              "      <td>26.0</td>\n",
              "      <td>740.0</td>\n",
              "    </tr>\n",
              "  </tbody>\n",
              "</table>\n",
              "</div>\n",
              "      <button class=\"colab-df-convert\" onclick=\"convertToInteractive('df-a18c1e4d-f53b-4644-a84f-b7a08474ddf1')\"\n",
              "              title=\"Convert this dataframe to an interactive table.\"\n",
              "              style=\"display:none;\">\n",
              "        \n",
              "  <svg xmlns=\"http://www.w3.org/2000/svg\" height=\"24px\"viewBox=\"0 0 24 24\"\n",
              "       width=\"24px\">\n",
              "    <path d=\"M0 0h24v24H0V0z\" fill=\"none\"/>\n",
              "    <path d=\"M18.56 5.44l.94 2.06.94-2.06 2.06-.94-2.06-.94-.94-2.06-.94 2.06-2.06.94zm-11 1L8.5 8.5l.94-2.06 2.06-.94-2.06-.94L8.5 2.5l-.94 2.06-2.06.94zm10 10l.94 2.06.94-2.06 2.06-.94-2.06-.94-.94-2.06-.94 2.06-2.06.94z\"/><path d=\"M17.41 7.96l-1.37-1.37c-.4-.4-.92-.59-1.43-.59-.52 0-1.04.2-1.43.59L10.3 9.45l-7.72 7.72c-.78.78-.78 2.05 0 2.83L4 21.41c.39.39.9.59 1.41.59.51 0 1.02-.2 1.41-.59l7.78-7.78 2.81-2.81c.8-.78.8-2.07 0-2.86zM5.41 20L4 18.59l7.72-7.72 1.47 1.35L5.41 20z\"/>\n",
              "  </svg>\n",
              "      </button>\n",
              "      \n",
              "  <style>\n",
              "    .colab-df-container {\n",
              "      display:flex;\n",
              "      flex-wrap:wrap;\n",
              "      gap: 12px;\n",
              "    }\n",
              "\n",
              "    .colab-df-convert {\n",
              "      background-color: #E8F0FE;\n",
              "      border: none;\n",
              "      border-radius: 50%;\n",
              "      cursor: pointer;\n",
              "      display: none;\n",
              "      fill: #1967D2;\n",
              "      height: 32px;\n",
              "      padding: 0 0 0 0;\n",
              "      width: 32px;\n",
              "    }\n",
              "\n",
              "    .colab-df-convert:hover {\n",
              "      background-color: #E2EBFA;\n",
              "      box-shadow: 0px 1px 2px rgba(60, 64, 67, 0.3), 0px 1px 3px 1px rgba(60, 64, 67, 0.15);\n",
              "      fill: #174EA6;\n",
              "    }\n",
              "\n",
              "    [theme=dark] .colab-df-convert {\n",
              "      background-color: #3B4455;\n",
              "      fill: #D2E3FC;\n",
              "    }\n",
              "\n",
              "    [theme=dark] .colab-df-convert:hover {\n",
              "      background-color: #434B5C;\n",
              "      box-shadow: 0px 1px 3px 1px rgba(0, 0, 0, 0.15);\n",
              "      filter: drop-shadow(0px 1px 2px rgba(0, 0, 0, 0.3));\n",
              "      fill: #FFFFFF;\n",
              "    }\n",
              "  </style>\n",
              "\n",
              "      <script>\n",
              "        const buttonEl =\n",
              "          document.querySelector('#df-a18c1e4d-f53b-4644-a84f-b7a08474ddf1 button.colab-df-convert');\n",
              "        buttonEl.style.display =\n",
              "          google.colab.kernel.accessAllowed ? 'block' : 'none';\n",
              "\n",
              "        async function convertToInteractive(key) {\n",
              "          const element = document.querySelector('#df-a18c1e4d-f53b-4644-a84f-b7a08474ddf1');\n",
              "          const dataTable =\n",
              "            await google.colab.kernel.invokeFunction('convertToInteractive',\n",
              "                                                     [key], {});\n",
              "          if (!dataTable) return;\n",
              "\n",
              "          const docLinkHtml = 'Like what you see? Visit the ' +\n",
              "            '<a target=\"_blank\" href=https://colab.research.google.com/notebooks/data_table.ipynb>data table notebook</a>'\n",
              "            + ' to learn more about interactive tables.';\n",
              "          element.innerHTML = '';\n",
              "          dataTable['output_type'] = 'display_data';\n",
              "          await google.colab.output.renderOutput(dataTable, element);\n",
              "          const docLink = document.createElement('div');\n",
              "          docLink.innerHTML = docLinkHtml;\n",
              "          element.appendChild(docLink);\n",
              "        }\n",
              "      </script>\n",
              "    </div>\n",
              "  </div>\n",
              "  "
            ]
          },
          "metadata": {},
          "execution_count": 41
        }
      ],
      "source": [
        "from sklearn.metrics.pairwise import PAIRWISE_DISTANCE_FUNCTIONS\n",
        "import pandas as pd\n",
        "import numpy as np\n",
        "from sklearn.metrics import confusion_matrix\n",
        "# TODO\n",
        "\n",
        "confusion_matrix_df = pd.DataFrame(np.zeros((10, 10)))\n",
        "all_label = torch.tensor([]).to(device)\n",
        "all_preds = torch.tensor([]).to(device)\n",
        "with torch.no_grad():\n",
        "  for images, labels in test_loader:\n",
        "      labels = labels.type(torch.LongTensor) # Cast to Float\n",
        "      images, labels = images.to(device), labels.to(device)\n",
        "      # TODO\n",
        "      outputs = cnn(images) # shape: torch.Size([10000, 10])\n",
        "      _, predicted = torch.max(outputs.data, 1) # use max to get the prediction\n",
        "      all_label = torch.cat((all_label, labels), dim=0)\n",
        "      all_preds = torch.cat((all_preds, predicted), dim=0)\n",
        "     \n",
        "\n",
        "print(all_label)\n",
        "\n",
        "confusion_matrix_df = pd.DataFrame(confusion_matrix(all_label.cpu(), all_preds.cpu()))\n",
        "\n",
        "confusion_matrix_df = confusion_matrix_df.astype('float')\n",
        "\n",
        "# END TODO\n",
        "confusion_matrix_df"
      ]
    },
    {
      "cell_type": "code",
      "execution_count": 42,
      "metadata": {
        "id": "BK4ZvYYlzGBc",
        "colab": {
          "base_uri": "https://localhost:8080/"
        },
        "outputId": "5ca0edab-5d57-4d25-b8fb-8356675ff326"
      },
      "outputs": [
        {
          "output_type": "stream",
          "name": "stdout",
          "text": [
            "Correct! You earned 6/6 points. You are a star!\n",
            "\n",
            "Your submission has been successfully recorded in the gradebook.\n"
          ]
        }
      ],
      "source": [
        "#Grader Cell (6 points)\n",
        "grader.grade('check_confusion_matrix', (str(type(confusion_matrix_df)), confusion_matrix_df.shape, confusion_matrix_df.to_numpy().sum()))"
      ]
    },
    {
      "cell_type": "markdown",
      "metadata": {
        "id": "5jJPU3rNMde3"
      },
      "source": [
        "### 2.4.2 Visualizing Confusion Matrix (4 points - Manual Grading)\n",
        "Implement the code to visualize the confusion matrix you have created above. This section will be manually graded\n",
        "\n",
        "Suggested library is using Seaborn heatmap. Take a look at the parameter \"annot\""
      ]
    },
    {
      "cell_type": "code",
      "execution_count": 43,
      "metadata": {
        "id": "t-T-L4OtMc0U",
        "colab": {
          "base_uri": "https://localhost:8080/",
          "height": 537
        },
        "outputId": "c954240d-f749-4bfd-8a9c-30e5403efa60"
      },
      "outputs": [
        {
          "output_type": "execute_result",
          "data": {
            "text/plain": [
              "Text(0.5, 1.0, 'Accuracy Score: 66.120')"
            ]
          },
          "metadata": {},
          "execution_count": 43
        },
        {
          "output_type": "display_data",
          "data": {
            "text/plain": [
              "<Figure size 648x648 with 2 Axes>"
            ],
            "image/png": "[encoded data removed]"
          },
          "metadata": {
            "needs_background": "light"
          }
        }
      ],
      "source": [
        "# TODO\n",
        "\n",
        "plt.figure(figsize=(9, 9))\n",
        "sns.heatmap(confusion_matrix_df , annot=True, fmt=\".3f\", linewidth=.5, square=True, cmap = 'Blues_r');\n",
        "plt.ylabel('Actual label')\n",
        "plt.xlabel('Predicted label')\n",
        "all_sample_title = 'Accuracy Score: {:.3f}'.format(test_acc_CNN)\n",
        "plt.title(all_sample_title, size = 15)\n",
        "\n",
        "# END TODO"
      ]
    },
    {
      "cell_type": "markdown",
      "source": [
        "# Homework Submission\n",
        "\n",
        "Well done! You have finished the homework :) The submission instructions are as follows:\n",
        "\n",
        "* **Double check** that you have the correct PennID (all numbers) in the autograder. \n",
        "\n",
        "* **Triple check** that you have all plots shown in this Colab notebook before submitting (otherwise, your submission will be subjected to a **penalty of -5 points**).\n",
        "\n",
        "*  Go to the \"File\" tab at the top left of the Colab UI, click \"Download .ipynb\" and then \"Download .py\".  **Rename** these two files to `homework5.ipynb` and `homework5.py` respectively and upload them to Gradescope.\n",
        "  - <ins>**WAIT UNTIL THE GRADESCOPE AUTOGRADER FINISHES RUNNING!**</ins> If we have to manually upload this for you after the deadline, **we will apply a penalty of -5 points** (this stacks with any other penatlies)\n",
        "\n",
        "* You must submit your notebook to receive credit. Post any issues with submission on Ed and make sure to keep in mind the late day policy.\n",
        "\n",
        "* After you submit your code, the teaching staff will manually grade your Colab notebook in order to validate the correctness of your code."
      ],
      "metadata": {
        "id": "QqPxQEYjE_K9"
      }
    }
  ],
  "metadata": {
    "accelerator": "GPU",
    "colab": {
      "provenance": [],
      "toc_visible": true
    },
    "gpuClass": "standard",
    "kernelspec": {
      "display_name": "Python 3",
      "name": "python3"
    },
    "language_info": {
      "name": "python"
    }
  },
  "nbformat": 4,
  "nbformat_minor": 0
}